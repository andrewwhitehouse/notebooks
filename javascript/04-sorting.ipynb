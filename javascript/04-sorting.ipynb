{
 "cells": [
  {
   "cell_type": "markdown",
   "id": "intense-aside",
   "metadata": {},
   "source": [
    "# Sorting"
   ]
  },
  {
   "cell_type": "markdown",
   "id": "annual-binary",
   "metadata": {},
   "source": [
    "### Emoji keys:\n",
    "\n",
    "🗒 background notes <br/>\n",
    "➡️ next progression exploring this topic <br/>\n",
    "💡 key point, or insight <br/>\n",
    "🎓 points for further investigation\n",
    " "
   ]
  },
  {
   "cell_type": "markdown",
   "id": "powered-storm",
   "metadata": {},
   "source": [
    "🗒 Many companies (like Google, Facebook and Airbnb) use algorithm-based interview questions. This demonstrates the candidate's ability to break down a problem into smaller problems, and work towards a solution.\n",
    "\n",
    "In real life, many business systems don't use these algorithms. I know, because I've been working in that domain for the past 30 years. Perhaps if you work in investment banking you'll see more numerical optimisation algorithms. \n",
    "\n",
    "But otherwise it's often about applying business rules to data. \n",
    "\n",
    "Let's assume your system handles customers, and those customers have addresses. \n",
    "\n",
    "You store all of their addresses. (Actually, you probably shouldn't do that under the GDPR principle of storing data for no longer than is necessary and reasonable. But let's assume you can justify that point.) \n",
    "\n",
    "Perhaps the customer has different types of address, and only one of those types can be active at a time. \n",
    "\n",
    "So you want to send the customer a letter; you need to find their current active correspondence address. As there probably aren't too many addresses for that customer you could load them all and scan the results for addressType='correspondence' and active=true.\n",
    "\n",
    "If, however, you have millions of customers and you want to retrieve the ones who live in Birmingham and have placed order in the past year, that could be a larger data set. A larger data set can take longer to process and so we may need a different approach to ensure we return results quickly enough for our users.\n",
    "\n",
    "This is why it's useful to know about sorting and searching algorithms. There are many resources where you can read about them. The original classic work was Donald Knuth's [Art of Computer Programming](https://en.wikipedia.org/wiki/The_Art_of_Computer_Programming), volume 3."
   ]
  },
  {
   "cell_type": "markdown",
   "id": "proper-devil",
   "metadata": {},
   "source": [
    "➡️ Let's generate a collection of random numbers. \n",
    "\n",
    "🗒 JavaScript generates pseudo-random numbers. If you want truly random numbers numbers, you may need to use [hardware](https://en.wikipedia.org/wiki/Hardware_random_number_generator) that incorporates a physical process."
   ]
  },
  {
   "cell_type": "markdown",
   "id": "persistent-virginia",
   "metadata": {},
   "source": [
    "➡️ Here is a reusable function to generate random numbers. This function takes a argument specifying the maximum random number value we want, and returns another function. The inner function takes a parameter specifying how many numbers we require."
   ]
  },
  {
   "cell_type": "code",
   "execution_count": 18,
   "id": "specified-satin",
   "metadata": {},
   "outputs": [],
   "source": [
    "function randomNumbers(maxValue) {\n",
    "    return function(quantity) {\n",
    "        var seen = {};\n",
    "        var numbers = [];\n",
    "        for(let i=0; i < quantity; i++) {\n",
    "            numbers.push(Math.floor(Math.random() * maxValue))\n",
    "        }     \n",
    "        return numbers;\n",
    "    }\n",
    "}"
   ]
  },
  {
   "cell_type": "code",
   "execution_count": 23,
   "id": "genetic-championship",
   "metadata": {},
   "outputs": [],
   "source": [
    "var randomMax100 = randomNumbers(100)"
   ]
  },
  {
   "cell_type": "markdown",
   "id": "essential-northern",
   "metadata": {},
   "source": [
    "💡 Top-level varaiables are defined with _var_ so that we can re-declare them in the notebook if we need to. _let_ and _const_ do not allow variables to be declared more than once."
   ]
  },
  {
   "cell_type": "code",
   "execution_count": 26,
   "id": "sharp-ultimate",
   "metadata": {},
   "outputs": [],
   "source": [
    "var numbers = randomMax100(20)"
   ]
  },
  {
   "cell_type": "code",
   "execution_count": 27,
   "id": "bearing-filename",
   "metadata": {},
   "outputs": [
    {
     "data": {
      "text/plain": [
       "[\n",
       "  14, 33, 15, 51, 36, 64, 75,\n",
       "  30, 55, 74, 16, 39, 42, 55,\n",
       "  52, 66, 62,  1, 49,  6\n",
       "]"
      ]
     },
     "execution_count": 27,
     "metadata": {},
     "output_type": "execute_result"
    }
   ],
   "source": [
    "numbers"
   ]
  },
  {
   "cell_type": "markdown",
   "id": "guided-apollo",
   "metadata": {},
   "source": [
    "➡️ To illustrate how much work the sorting function has to do, let's create a function that shows how far out of position the unsorted numbers are relative to their sorted position."
   ]
  },
  {
   "cell_type": "code",
   "execution_count": 33,
   "id": "regulated-matrix",
   "metadata": {},
   "outputs": [],
   "source": [
    "function displacement(numbers) {\n",
    "    /*\n",
    "     * Sort the numbers to determine their eventual position. \n",
    "     * Then scan the unsorted numbers and save how many positions each number would need to move.\n",
    "     */\n",
    "    let sorted = [...numbers];\n",
    "    const sortAscending = function(a,b) { return a-b; }\n",
    "    sorted.sort(sortAscending);\n",
    "    let sortedIndexes = {};\n",
    "    for(let i=0; i < sorted.length; i++) {\n",
    "        sortedIndexes[sorted[i]] = i;\n",
    "    }\n",
    "    // Now compare against the unsorted numbers\n",
    "    let result = {};\n",
    "    for(let i=0; i < numbers.length; i++) {\n",
    "        // What is the index of this number in the sorted array?\n",
    "        const sortedIndex = sortedIndexes[numbers[i]];\n",
    "        \n",
    "        // Use abs because we only want to know the number of positions, not \"up\" or \"down\"\n",
    "        const unsortedIndex = i;\n",
    "        const offset = Math.abs(sortedIndex - unsortedIndex);\n",
    "        \n",
    "        if (result[offset]) {\n",
    "            result[offset]++;\n",
    "        } else {\n",
    "            result[offset] = 1;\n",
    "        }\n",
    "    }\n",
    "    return result;\n",
    "}"
   ]
  },
  {
   "cell_type": "code",
   "execution_count": 34,
   "id": "seeing-petroleum",
   "metadata": {},
   "outputs": [
    {
     "data": {
      "text/plain": [
       "{\n",
       "  '1': 3,\n",
       "  '2': 4,\n",
       "  '3': 3,\n",
       "  '5': 1,\n",
       "  '6': 2,\n",
       "  '8': 2,\n",
       "  '9': 1,\n",
       "  '11': 1,\n",
       "  '13': 1,\n",
       "  '17': 1,\n",
       "  '18': 1\n",
       "}"
      ]
     },
     "execution_count": 34,
     "metadata": {},
     "output_type": "execute_result"
    }
   ],
   "source": [
    "displacement(numbers)"
   ]
  },
  {
   "cell_type": "markdown",
   "id": "identical-cooling",
   "metadata": {},
   "source": [
    "💡 Key is how far the number is out of position, and value is how many of the original numbers have to move that far. \n",
    "\n",
    "💡 Note that JavaScript maps convert the keys to strings.\n",
    "\n",
    "💡 These numbers aren't perfect because we might have the same number repeated, which could go in any order relative to each other; don't read too much into these numbers ... they are simply there to illustrate that the sorting algorithm has some work to do."
   ]
  },
  {
   "cell_type": "markdown",
   "id": "korean-place",
   "metadata": {},
   "source": [
    "The simplest and least efficient sorting algorithm is [Bubble Sort](https://en.wikipedia.org/wiki/Bubble_sort)\n",
    "                                                                    \n",
    "Here is the pseudocode:\n",
    "\n",
    "```\n",
    "procedure bubbleSort(A : list of sortable items)\n",
    "    n := length(A)\n",
    "    repeat\n",
    "        swapped := false\n",
    "        for i := 1 to n-1 inclusive do\n",
    "            /* if this pair is out of order */\n",
    "            if A[i-1] > A[i] then\n",
    "                /* swap them and remember something changed */\n",
    "                swap(A[i-1], A[i])\n",
    "                swapped := true\n",
    "            end if\n",
    "        end for\n",
    "    until not swapped\n",
    "end procedure\n",
    "```"
   ]
  },
  {
   "cell_type": "code",
   "execution_count": 1,
   "id": "champion-wagner",
   "metadata": {},
   "outputs": [],
   "source": [
    "function bubbleSort(numbers) {\n",
    "    const result = [...numbers]; // Immutable function, result is sorted but don't modify the input\n",
    "    let swapped;\n",
    "    do {\n",
    "        swapped = false\n",
    "        for(let i=1; i < result.length; i++) {\n",
    "            if (result[i-1] > result[i]) {\n",
    "                let temp = result[i];\n",
    "                result[i] = result[i-1];\n",
    "                result[i-1] = temp;\n",
    "                swapped = true;\n",
    "            }\n",
    "        }\n",
    "        console.log(result);\n",
    "        \n",
    "    } while (swapped)\n",
    "    return result;    \n",
    "}"
   ]
  },
  {
   "cell_type": "markdown",
   "id": "executed-january",
   "metadata": {},
   "source": [
    "💡 Bubble Sort works but repeatedly re-ordering pairs of numbers again and again until eventually all numbers are in order. This has the effect of moving the next-largest number to its correct position in the array after we've processed all pairs."
   ]
  },
  {
   "cell_type": "code",
   "execution_count": 36,
   "id": "functional-clone",
   "metadata": {},
   "outputs": [
    {
     "name": "stdout",
     "output_type": "stream",
     "text": [
      "[\n",
      "  14, 15, 33, 36, 51, 64, 30,\n",
      "  55, 74, 16, 39, 42, 55, 52,\n",
      "  66, 62,  1, 49,  6, 75\n",
      "]\n",
      "[\n",
      "  14, 15, 33, 36, 51, 30, 55,\n",
      "  64, 16, 39, 42, 55, 52, 66,\n",
      "  62,  1, 49,  6, 74, 75\n",
      "]\n",
      "[\n",
      "  14, 15, 33, 36, 30, 51, 55,\n",
      "  16, 39, 42, 55, 52, 64, 62,\n",
      "   1, 49,  6, 66, 74, 75\n",
      "]\n",
      "[\n",
      "  14, 15, 33, 30, 36, 51, 16,\n",
      "  39, 42, 55, 52, 55, 62,  1,\n",
      "  49,  6, 64, 66, 74, 75\n",
      "]\n",
      "[\n",
      "  14, 15, 30, 33, 36, 16, 39,\n",
      "  42, 51, 52, 55, 55,  1, 49,\n",
      "   6, 62, 64, 66, 74, 75\n",
      "]\n",
      "[\n",
      "  14, 15, 30, 33, 16, 36, 39,\n",
      "  42, 51, 52, 55,  1, 49,  6,\n",
      "  55, 62, 64, 66, 74, 75\n",
      "]\n",
      "[\n",
      "  14, 15, 30, 16, 33, 36, 39,\n",
      "  42, 51, 52,  1, 49,  6, 55,\n",
      "  55, 62, 64, 66, 74, 75\n",
      "]\n",
      "[\n",
      "  14, 15, 16, 30, 33, 36, 39,\n",
      "  42, 51,  1, 49,  6, 52, 55,\n",
      "  55, 62, 64, 66, 74, 75\n",
      "]\n",
      "[\n",
      "  14, 15, 16, 30, 33, 36, 39,\n",
      "  42,  1, 49,  6, 51, 52, 55,\n",
      "  55, 62, 64, 66, 74, 75\n",
      "]\n",
      "[\n",
      "  14, 15, 16, 30, 33, 36, 39,\n",
      "   1, 42,  6, 49, 51, 52, 55,\n",
      "  55, 62, 64, 66, 74, 75\n",
      "]\n",
      "[\n",
      "  14, 15, 16, 30, 33, 36,  1,\n",
      "  39,  6, 42, 49, 51, 52, 55,\n",
      "  55, 62, 64, 66, 74, 75\n",
      "]\n",
      "[\n",
      "  14, 15, 16, 30, 33,  1, 36,\n",
      "   6, 39, 42, 49, 51, 52, 55,\n",
      "  55, 62, 64, 66, 74, 75\n",
      "]\n",
      "[\n",
      "  14, 15, 16, 30,  1, 33,  6,\n",
      "  36, 39, 42, 49, 51, 52, 55,\n",
      "  55, 62, 64, 66, 74, 75\n",
      "]\n",
      "[\n",
      "  14, 15, 16,  1, 30,  6, 33,\n",
      "  36, 39, 42, 49, 51, 52, 55,\n",
      "  55, 62, 64, 66, 74, 75\n",
      "]\n",
      "[\n",
      "  14, 15,  1, 16,  6, 30, 33,\n",
      "  36, 39, 42, 49, 51, 52, 55,\n",
      "  55, 62, 64, 66, 74, 75\n",
      "]\n",
      "[\n",
      "  14,  1, 15,  6, 16, 30, 33,\n",
      "  36, 39, 42, 49, 51, 52, 55,\n",
      "  55, 62, 64, 66, 74, 75\n",
      "]\n",
      "[\n",
      "   1, 14,  6, 15, 16, 30, 33,\n",
      "  36, 39, 42, 49, 51, 52, 55,\n",
      "  55, 62, 64, 66, 74, 75\n",
      "]\n",
      "[\n",
      "   1,  6, 14, 15, 16, 30, 33,\n",
      "  36, 39, 42, 49, 51, 52, 55,\n",
      "  55, 62, 64, 66, 74, 75\n",
      "]\n",
      "[\n",
      "   1,  6, 14, 15, 16, 30, 33,\n",
      "  36, 39, 42, 49, 51, 52, 55,\n",
      "  55, 62, 64, 66, 74, 75\n",
      "]\n"
     ]
    },
    {
     "data": {
      "text/plain": [
       "[\n",
       "   1,  6, 14, 15, 16, 30, 33,\n",
       "  36, 39, 42, 49, 51, 52, 55,\n",
       "  55, 62, 64, 66, 74, 75\n",
       "]"
      ]
     },
     "execution_count": 36,
     "metadata": {},
     "output_type": "execute_result"
    }
   ],
   "source": [
    "bubbleSort(numbers)"
   ]
  },
  {
   "cell_type": "markdown",
   "id": "visible-substance",
   "metadata": {},
   "source": [
    "➡️ Let's add in a timing function"
   ]
  },
  {
   "cell_type": "code",
   "execution_count": 10,
   "id": "unexpected-campbell",
   "metadata": {},
   "outputs": [],
   "source": [
    "function time(f) {\n",
    "    let start = (new Date()).getTime();\n",
    "    let result = f();\n",
    "    let end = (new Date()).getTime();\n",
    "    return {result, milliSeconds: end-start};\n",
    "}"
   ]
  },
  {
   "cell_type": "code",
   "execution_count": 15,
   "id": "cardiac-tutorial",
   "metadata": {},
   "outputs": [
    {
     "data": {
      "text/plain": [
       "{\n",
       "  result: [\n",
       "       52,   728,   752,   979,  1201,  1669,  1707,  1801,  1990,\n",
       "     2119,  2202,  2221,  2300,  3003,  3063,  3407,  3486,  3496,\n",
       "     3582,  3681,  3901,  3944,  3970,  4413,  4479,  4520,  4787,\n",
       "     5405,  5497,  5670,  5685,  5735,  5913,  5994,  6066,  6176,\n",
       "     6547,  6928,  7251,  7560,  7635,  7847,  7918,  8728,  8890,\n",
       "     9356,  9491,  9755, 10032, 10082, 10284, 10462, 10631, 10954,\n",
       "    10959, 10966, 11210, 11867, 12328, 12415, 12832, 13003, 13179,\n",
       "    13237, 13249, 13694, 14105, 14351, 14825, 14938, 14946, 15078,\n",
       "    15262, 16269, 16966, 17109, 17299, 17681, 17845, 18154, 18362,\n",
       "    18908, 18915, 18930, 19344, 19866, 20116, 20169, 20170, 20379,\n",
       "    20543, 20942, 20945, 21182, 21292, 21294, 21361, 21616, 21633,\n",
       "    21871,\n",
       "    ... 49900 more items\n",
       "  ],\n",
       "  milliSeconds: 6474\n",
       "}"
      ]
     },
     "execution_count": 15,
     "metadata": {},
     "output_type": "execute_result"
    }
   ],
   "source": [
    "var quantity = 50000;\n",
    "var maxValue = 10000000;\n",
    "var random50000 = randomNumbers(maxValue)(quantity);\n",
    "time(() => bubbleSort(random50000));"
   ]
  },
  {
   "cell_type": "markdown",
   "id": "coordinate-springer",
   "metadata": {},
   "source": [
    "➡️ Compare with the built-in JavaScript function"
   ]
  },
  {
   "cell_type": "code",
   "execution_count": 16,
   "id": "congressional-frequency",
   "metadata": {},
   "outputs": [
    {
     "data": {
      "text/plain": [
       "{\n",
       "  result: [\n",
       "       52,   728,   752,   979,  1201,  1669,  1707,  1801,  1990,\n",
       "     2119,  2202,  2221,  2300,  3003,  3063,  3407,  3486,  3496,\n",
       "     3582,  3681,  3901,  3944,  3970,  4413,  4479,  4520,  4787,\n",
       "     5405,  5497,  5670,  5685,  5735,  5913,  5994,  6066,  6176,\n",
       "     6547,  6928,  7251,  7560,  7635,  7847,  7918,  8728,  8890,\n",
       "     9356,  9491,  9755, 10032, 10082, 10284, 10462, 10631, 10954,\n",
       "    10959, 10966, 11210, 11867, 12328, 12415, 12832, 13003, 13179,\n",
       "    13237, 13249, 13694, 14105, 14351, 14825, 14938, 14946, 15078,\n",
       "    15262, 16269, 16966, 17109, 17299, 17681, 17845, 18154, 18362,\n",
       "    18908, 18915, 18930, 19344, 19866, 20116, 20169, 20170, 20379,\n",
       "    20543, 20942, 20945, 21182, 21292, 21294, 21361, 21616, 21633,\n",
       "    21871,\n",
       "    ... 49900 more items\n",
       "  ],\n",
       "  milliSeconds: 24\n",
       "}"
      ]
     },
     "execution_count": 16,
     "metadata": {},
     "output_type": "execute_result"
    }
   ],
   "source": [
    "var unsorted = [...random50000]\n",
    "time(() => unsorted.sort((a,b) => a-b))"
   ]
  },
  {
   "cell_type": "markdown",
   "id": "incomplete-rover",
   "metadata": {},
   "source": [
    "So you can see that Bubble Sort is by no means the most efficient sorting algorithm. If there is a library function available in your language that does what you need, then you should seriously consider using it, unless there are good reasons not to."
   ]
  },
  {
   "cell_type": "markdown",
   "id": "parliamentary-essence",
   "metadata": {},
   "source": [
    "🎓 Which other sorting algorithms have similar time complexity to Bubble Sort? [hint](https://www.bigocheatsheet.com/). Which ones are better? Which algorithm does Node.js use?"
   ]
  }
 ],
 "metadata": {
  "kernelspec": {
   "display_name": "Javascript (Node.js)",
   "language": "javascript",
   "name": "javascript"
  },
  "language_info": {
   "file_extension": ".js",
   "mimetype": "application/javascript",
   "name": "javascript",
   "version": "15.11.0"
  }
 },
 "nbformat": 4,
 "nbformat_minor": 5
}
