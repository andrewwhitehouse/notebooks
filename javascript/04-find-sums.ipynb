{
 "cells": [
  {
   "cell_type": "code",
   "execution_count": 1,
   "id": "eligible-obligation",
   "metadata": {},
   "outputs": [
    {
     "data": {
      "text/plain": [
       "100000"
      ]
     },
     "execution_count": 1,
     "metadata": {},
     "output_type": "execute_result"
    }
   ],
   "source": [
    "var numbers = []\n",
    "var maxNumber = 1000000000;\n",
    "var howMany = 100000;\n",
    "for(let i=0; i < howMany; i++) {\n",
    "    numbers.push(Math.floor(Math.random() * maxNumber));\n",
    "}"
   ]
  },
  {
   "cell_type": "code",
   "execution_count": 2,
   "id": "threaded-berkeley",
   "metadata": {},
   "outputs": [
    {
     "data": {
      "text/plain": [
       "[\n",
       "  622617942, 815714940, 612774232, 910312133,  97905448, 639882007,\n",
       "   60225094, 992888489, 684858604, 599480126, 131808291, 691694860,\n",
       "  220754105, 952418741, 633574773, 458272235, 937734741, 611540448,\n",
       "  300982610, 685969173, 212070325, 568370346, 952868023, 942565152,\n",
       "  397158670, 353417850, 893449170, 544720674, 215168875, 390508755,\n",
       "   96688067, 101890966, 961809749, 683025868, 164740258, 220205275,\n",
       "  521036456, 946017063,  34418880, 566053082, 141626326, 759137328,\n",
       "  393343390, 710931190, 991980096, 624374847,  28925108, 288283564,\n",
       "  868568726, 250516634, 483628737, 430697480, 750002126, 156443300,\n",
       "  966905727, 180290334, 431416001, 290490035, 949853281, 874925422,\n",
       "  352186616, 388884651, 830265036, 417931064, 850998356, 260563638,\n",
       "  935201818, 763186506, 285136150, 587076081, 851348880, 472008969,\n",
       "  220218610,  69177188, 880038712,   6501906, 100415703, 976304755,\n",
       "   20359503, 218610023, 725007122, 625645420, 702360351, 197488085,\n",
       "  279221269, 731914735, 194999671, 334597453, 206931867,   4816577,\n",
       "   52822973, 851202706,  59398634, 193974483, 492991000, 750416107,\n",
       "  618056669, 620515436, 220524337, 290222397,\n",
       "  ... 99900 more items\n",
       "]"
      ]
     },
     "execution_count": 2,
     "metadata": {},
     "output_type": "execute_result"
    }
   ],
   "source": [
    "numbers"
   ]
  },
  {
   "cell_type": "code",
   "execution_count": 3,
   "id": "mediterranean-temple",
   "metadata": {},
   "outputs": [],
   "source": [
    "var desiredTotal = numbers[numbers.length/2] + numbers[numbers.length-200]"
   ]
  },
  {
   "cell_type": "code",
   "execution_count": 4,
   "id": "liquid-sequence",
   "metadata": {},
   "outputs": [
    {
     "data": {
      "text/plain": [
       "643284179"
      ]
     },
     "execution_count": 4,
     "metadata": {},
     "output_type": "execute_result"
    }
   ],
   "source": [
    "desiredTotal"
   ]
  },
  {
   "cell_type": "code",
   "execution_count": 5,
   "id": "peaceful-sheet",
   "metadata": {},
   "outputs": [],
   "source": [
    "function findAddends(numbers, total) {\n",
    "    var result = [];\n",
    "    for(let i=0; i < numbers.length; i++) {\n",
    "        for(let j=0; j < numbers.length; j++) {\n",
    "            if (i != j && numbers[i]+numbers[j] == total) {\n",
    "                result.push([numbers[i], numbers[j]]);\n",
    "            }\n",
    "        }\n",
    "    }\n",
    "    return result;\n",
    "}"
   ]
  },
  {
   "cell_type": "code",
   "execution_count": null,
   "id": "ongoing-combining",
   "metadata": {},
   "outputs": [],
   "source": [
    "findAddends(numbers, desiredTotal)"
   ]
  },
  {
   "cell_type": "code",
   "execution_count": 6,
   "id": "interesting-sellers",
   "metadata": {},
   "outputs": [],
   "source": [
    "function timeFunction(f) {\n",
    "    var start = (new Date()).getTime();\n",
    "    var result = f();\n",
    "    var end = (new Date()).getTime();\n",
    "    return {result, millis:end-start};\n",
    "}"
   ]
  },
  {
   "cell_type": "code",
   "execution_count": 7,
   "id": "alpine-vermont",
   "metadata": {},
   "outputs": [
    {
     "data": {
      "text/plain": [
       "{\n",
       "  result: [\n",
       "    [ 589214391, 54069788 ],\n",
       "    [ 27471805, 615812374 ],\n",
       "    [ 476346754, 166937425 ],\n",
       "    [ 54069788, 589214391 ],\n",
       "    [ 152090837, 491193342 ],\n",
       "    [ 615812374, 27471805 ],\n",
       "    [ 332851928, 310432251 ],\n",
       "    [ 225157788, 418126391 ],\n",
       "    [ 377102492, 266181687 ],\n",
       "    [ 310432251, 332851928 ],\n",
       "    [ 266181687, 377102492 ],\n",
       "    [ 166937425, 476346754 ],\n",
       "    [ 418126391, 225157788 ],\n",
       "    [ 491193342, 152090837 ]\n",
       "  ],\n",
       "  millis: 15141\n",
       "}"
      ]
     },
     "execution_count": 7,
     "metadata": {},
     "output_type": "execute_result"
    }
   ],
   "source": [
    "timeFunction(() => {\n",
    "    return findAddends(numbers, desiredTotal)\n",
    "})"
   ]
  },
  {
   "cell_type": "code",
   "execution_count": 8,
   "id": "cloudy-timeline",
   "metadata": {},
   "outputs": [
    {
     "data": {
      "text/plain": [
       "100000"
      ]
     },
     "execution_count": 8,
     "metadata": {},
     "output_type": "execute_result"
    }
   ],
   "source": [
    "numbers.length"
   ]
  },
  {
   "cell_type": "code",
   "execution_count": 9,
   "id": "trained-bristol",
   "metadata": {},
   "outputs": [],
   "source": [
    "function findAddendsImproved(unsortedNumbers, total) {\n",
    "    var numbers = [...unsortedNumbers];\n",
    "    var sortAscending = (a,b) => a-b;\n",
    "    numbers.sort(sortAscending);\n",
    "    var result = [];\n",
    "    for(let i=0; i < numbers.length; i++) {\n",
    "        for(let j=0; j < numbers.length; j++) {\n",
    "            if (i != j) {\n",
    "                if (numbers[i]+numbers[j] == total) {\n",
    "                    result.push([numbers[i], numbers[j]]);\n",
    "                } else if (numbers[i]+numbers[j] > total) {\n",
    "                    break;\n",
    "                }\n",
    "            }\n",
    "        }\n",
    "    }\n",
    "    return result;\n",
    "}"
   ]
  },
  {
   "cell_type": "code",
   "execution_count": 10,
   "id": "collaborative-arrest",
   "metadata": {},
   "outputs": [
    {
     "data": {
      "text/plain": [
       "{\n",
       "  result: [\n",
       "    [ 27471805, 615812374 ],\n",
       "    [ 54069788, 589214391 ],\n",
       "    [ 152090837, 491193342 ],\n",
       "    [ 166937425, 476346754 ],\n",
       "    [ 225157788, 418126391 ],\n",
       "    [ 266181687, 377102492 ],\n",
       "    [ 310432251, 332851928 ],\n",
       "    [ 332851928, 310432251 ],\n",
       "    [ 377102492, 266181687 ],\n",
       "    [ 418126391, 225157788 ],\n",
       "    [ 476346754, 166937425 ],\n",
       "    [ 491193342, 152090837 ],\n",
       "    [ 589214391, 54069788 ],\n",
       "    [ 615812374, 27471805 ]\n",
       "  ],\n",
       "  millis: 3611\n",
       "}"
      ]
     },
     "execution_count": 10,
     "metadata": {},
     "output_type": "execute_result"
    }
   ],
   "source": [
    "timeFunction(() => {\n",
    "    return findAddendsImproved(numbers, desiredTotal)\n",
    "})"
   ]
  },
  {
   "cell_type": "code",
   "execution_count": null,
   "id": "greenhouse-manufacturer",
   "metadata": {},
   "outputs": [],
   "source": []
  }
 ],
 "metadata": {
  "kernelspec": {
   "display_name": "Javascript (Node.js)",
   "language": "javascript",
   "name": "javascript"
  },
  "language_info": {
   "file_extension": ".js",
   "mimetype": "application/javascript",
   "name": "javascript",
   "version": "15.11.0"
  }
 },
 "nbformat": 4,
 "nbformat_minor": 5
}
