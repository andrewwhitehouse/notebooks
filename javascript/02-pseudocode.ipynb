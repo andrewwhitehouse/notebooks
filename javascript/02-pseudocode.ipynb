{
 "cells": [
  {
   "cell_type": "markdown",
   "id": "comparative-adobe",
   "metadata": {},
   "source": [
    "# Pseudocode\n",
    "\n",
    "[[Previously](./01-buggy-sieve.ipynb) I wrote a buggy implementation of the Sieve of Eratosthenes. You may want to read that first.]\n",
    "\n",
    "It can be helpful to represent algorithms in a notation that is more precise than the written word, \n",
    "and not specific to a particular programming language.\n",
    "\n",
    "It turns out that the [Wikipedia page](https://en.wikipedia.org/wiki/Sieve_of_Eratosthenes) for the _Sieve of Eratosthenes_ includes a pseudocode representation.\n",
    "\n",
    "```\n",
    "algorithm Sieve of Eratosthenes is\n",
    "    input: an integer n > 1.\n",
    "    output: all prime numbers from 2 through n.\n",
    "\n",
    "    let A be an array of Boolean values, indexed by integers 2 to n,\n",
    "    initially all set to true.\n",
    "    \n",
    "    for i = 2, 3, 4, ..., not exceeding √n do\n",
    "        if A[i] is true\n",
    "            for j = i^2, i^2+i, i^2+2i, i^2+3i, ..., not exceeding n do\n",
    "                A[j] := false\n",
    "\n",
    "    return all i such that A[i] is true.\n",
    "```\n",
    "\n",
    "The _circumflex_ '^' is a way of saying _to the power of_.\n",
    "\n",
    "I knew in my head the principle of how this works -- create an array and mark successive factors as non-prime -- and \n",
    "in my enthusiasm to code it I overlooked the helpful detail here. There's a lesson there ... do some due diligence first before launching in. Someone else may have done some work that makes your job easier."
   ]
  },
  {
   "cell_type": "markdown",
   "id": "homeless-bidding",
   "metadata": {},
   "source": [
    "So let's revisit our example.\n",
    "\n",
    "I'm going to take a slightly different approach and start with the assertion of what our expected behaviour is, as a function."
   ]
  },
  {
   "cell_type": "code",
   "execution_count": null,
   "id": "announced-influence",
   "metadata": {},
   "outputs": [],
   "source": [
    "function primesUpTo(limit) {\n",
    "    return [];\n",
    "}"
   ]
  },
  {
   "cell_type": "code",
   "execution_count": null,
   "id": "usual-patent",
   "metadata": {},
   "outputs": [],
   "source": [
    "primesUpTo(20) === [2,3,5,7,11,17,19]"
   ]
  },
  {
   "cell_type": "markdown",
   "id": "impressed-sleep",
   "metadata": {},
   "source": [
    "I've defined a function that takes the (integer) limit as a parameter and returns an array. \n",
    "Let's start with a failing test. And implement the algorithm."
   ]
  },
  {
   "cell_type": "code",
   "execution_count": 1,
   "id": "chicken-mentor",
   "metadata": {},
   "outputs": [],
   "source": [
    "function primesUpTo(limit) {\n",
    "    const maxPossibleFactor = Math.floor(Math.sqrt(limit));\n",
    "    console.log(`maxPossibleFactor ${maxPossibleFactor}`);\n",
    "    let possiblePrimes = new Array(limit-1); // Represents numbers 2 to n\n",
    "    possiblePrimes.fill(true);\n",
    "    for(let i=2; i <= maxPossibleFactor; i++) {\n",
    "        console.log(`i ${i} possiblePrime ${possiblePrimes[i-2]}`);\n",
    "        if (possiblePrimes[i-2]) {\n",
    "            for(let k=0; i*(i+k) <= limit; k++) {\n",
    "                let j = i*(i+k);\n",
    "                possiblePrimes[j-2] = false; \n",
    "            }\n",
    "        }\n",
    "    }\n",
    "    console.log(`possiblePrimes ${possiblePrimes}`);\n",
    "    const actualPrimes = [];\n",
    "    for(let i=0; i < possiblePrimes.length; i++) {\n",
    "        if (possiblePrimes[i]) {\n",
    "            actualPrimes.push(i+2);\n",
    "        }\n",
    "    }\n",
    "    return actualPrimes;\n",
    "}"
   ]
  },
  {
   "cell_type": "markdown",
   "id": "light-seattle",
   "metadata": {},
   "source": [
    "The first version I wrote didn't work:\n",
    "\n",
    "```\n",
    "function primesUpTo(limit) {\n",
    "    const maxPossibleFactor = Math.floor(Math.sqrt(limit));\n",
    "    let possiblePrimes = new Array(limit-1); // Represents numbers 2 to n\n",
    "    possiblePrimes.fill(true);\n",
    "    for(let i=2; i <= maxPossibleFactor; i++) {\n",
    "        if (possiblePrimes[i-2]) {\n",
    "            for(let k=0, j=i*(i+k); j <= limit; k++) {\n",
    "                possiblePrimes[j-2] = false; \n",
    "            }\n",
    "        }\n",
    "    }\n",
    "    const actualPrimes = [];\n",
    "    for(let i=0; i < possiblePrimes.length; i++) {\n",
    "        if (possiblePrimes[i]) {\n",
    "            actualPrimes.push(i+2);\n",
    "        }\n",
    "    }\n",
    "    return actualPrimes;\n",
    "}\n",
    "```"
   ]
  },
  {
   "cell_type": "markdown",
   "id": "revolutionary-toronto",
   "metadata": {},
   "source": [
    "So I added the console.log statements and noticed that the second one wasn't being reached. \n",
    "That suggest a problem with my loop conditions."
   ]
  },
  {
   "cell_type": "markdown",
   "id": "rolled-copyright",
   "metadata": {},
   "source": [
    "Adding a print statement just inside the outer loop (which sets _i) I see this:\n",
    "```\n",
    "maxPossibleFactor 4\n",
    "i 2 possiblePrime true\n",
    "```\n",
    "\n",
    "and I can't run any more code which suggests the code is not returning. (I had to use the _Kernel_ menu to restart it.) There's a problem with that inner _for_ loop.\n",
    "\n",
    "[Eureka](https://en.wikipedia.org/wiki/Eureka_(word)) (as Eratosthenes may have said once or twice)! I'm only initialising the j once at the start of the loop. It's the middle condition that is evaluated each time around the loop so I need to recalculate j there. "
   ]
  },
  {
   "cell_type": "code",
   "execution_count": 2,
   "id": "capable-automation",
   "metadata": {},
   "outputs": [
    {
     "name": "stdout",
     "output_type": "stream",
     "text": [
      "maxPossibleFactor 4\n",
      "i 2 possiblePrime true\n",
      "i 3 possiblePrime true\n",
      "i 4 possiblePrime false\n",
      "possiblePrimes true,true,false,true,false,true,false,false,false,true,false,true,false,false,false,true,false,true,false\n"
     ]
    },
    {
     "data": {
      "text/plain": [
       "[\n",
       "   2,  3,  5,  7,\n",
       "  11, 13, 17, 19\n",
       "]"
      ]
     },
     "execution_count": 2,
     "metadata": {},
     "output_type": "execute_result"
    }
   ],
   "source": [
    "primesUpTo(20)"
   ]
  },
  {
   "cell_type": "markdown",
   "id": "ecological-harrison",
   "metadata": {},
   "source": [
    "That looks sensible. Let's try our test again."
   ]
  },
  {
   "cell_type": "code",
   "execution_count": 3,
   "id": "several-gasoline",
   "metadata": {},
   "outputs": [
    {
     "name": "stdout",
     "output_type": "stream",
     "text": [
      "maxPossibleFactor 4\n",
      "i 2 possiblePrime true\n",
      "i 3 possiblePrime true\n",
      "i 4 possiblePrime false\n",
      "possiblePrimes true,true,false,true,false,true,false,false,false,true,false,true,false,false,false,true,false,true,false\n"
     ]
    },
    {
     "data": {
      "text/plain": [
       "false"
      ]
     },
     "execution_count": 3,
     "metadata": {},
     "output_type": "execute_result"
    }
   ],
   "source": [
    "primesUpTo(20) === [2,3,5,7,11,17,19]"
   ]
  },
  {
   "cell_type": "markdown",
   "id": "therapeutic-hamburg",
   "metadata": {},
   "source": [
    "Hmm. Still false. Oh wait. My test data was wrong. Tests are useful, but they need to test for the right thing! \n",
    "That's why we review each other's code in teams to spot things that we may have missed."
   ]
  },
  {
   "cell_type": "code",
   "execution_count": 5,
   "id": "decimal-silly",
   "metadata": {},
   "outputs": [
    {
     "name": "stdout",
     "output_type": "stream",
     "text": [
      "maxPossibleFactor 4\n",
      "i 2 possiblePrime true\n",
      "i 3 possiblePrime true\n",
      "i 4 possiblePrime false\n",
      "possiblePrimes true,true,false,true,false,true,false,false,false,true,false,true,false,false,false,true,false,true,false\n"
     ]
    },
    {
     "data": {
      "text/plain": [
       "false"
      ]
     },
     "execution_count": 5,
     "metadata": {},
     "output_type": "execute_result"
    }
   ],
   "source": [
    "primesUpTo(20) == [2,3,5,7,11,13,17,19]"
   ]
  },
  {
   "cell_type": "markdown",
   "id": "wrapped-induction",
   "metadata": {},
   "source": [
    "Still false. :( It turns out that JavaScript doesn't support comparing arrays using the double equals notation. \n",
    "(Single equals is used for variable assignment.) So let's write a helper function to compare arrays."
   ]
  },
  {
   "cell_type": "code",
   "execution_count": 8,
   "id": "studied-princess",
   "metadata": {},
   "outputs": [],
   "source": [
    "function arrayEquals(a, b) {\n",
    "    if (a.length != b.length) {\n",
    "        return false;\n",
    "    }\n",
    "    for(let i=0; i < a.length; i++) {\n",
    "        if (a[i] != b[i]) {\n",
    "            return false;\n",
    "        }\n",
    "    }\n",
    "    return true;\n",
    "}"
   ]
  },
  {
   "cell_type": "code",
   "execution_count": 9,
   "id": "foster-noise",
   "metadata": {},
   "outputs": [
    {
     "name": "stdout",
     "output_type": "stream",
     "text": [
      "maxPossibleFactor 4\n",
      "i 2 possiblePrime true\n",
      "i 3 possiblePrime true\n",
      "i 4 possiblePrime false\n",
      "possiblePrimes true,true,false,true,false,true,false,false,false,true,false,true,false,false,false,true,false,true,false\n"
     ]
    },
    {
     "data": {
      "text/plain": [
       "true"
      ]
     },
     "execution_count": 9,
     "metadata": {},
     "output_type": "execute_result"
    }
   ],
   "source": [
    "arrayEquals(primesUpTo(20), [2,3,5,7,11,13,17,19])"
   ]
  },
  {
   "cell_type": "markdown",
   "id": "stretch-screen",
   "metadata": {},
   "source": [
    "Now we're in business."
   ]
  },
  {
   "cell_type": "markdown",
   "id": "norwegian-algebra",
   "metadata": {},
   "source": [
    "Let's try something more challenging. (I'm going to comment out print statements first.)"
   ]
  },
  {
   "cell_type": "code",
   "execution_count": 11,
   "id": "latest-track",
   "metadata": {},
   "outputs": [],
   "source": [
    "function primesUpTo(limit) {\n",
    "    const maxPossibleFactor = Math.floor(Math.sqrt(limit));\n",
    "    let possiblePrimes = new Array(limit-1); // Represents numbers 2 to n\n",
    "    possiblePrimes.fill(true);\n",
    "    for(let i=2; i <= maxPossibleFactor; i++) {\n",
    "        if (possiblePrimes[i-2]) {\n",
    "            for(let k=0; i*(i+k) <= limit; k++) {\n",
    "                let j = i*(i+k);\n",
    "                possiblePrimes[j-2] = false; \n",
    "            }\n",
    "        }\n",
    "    }\n",
    "    const actualPrimes = [];\n",
    "    for(let i=0; i < possiblePrimes.length; i++) {\n",
    "        if (possiblePrimes[i]) {\n",
    "            actualPrimes.push(i+2);\n",
    "        }\n",
    "    }\n",
    "    return actualPrimes;\n",
    "}"
   ]
  },
  {
   "cell_type": "code",
   "execution_count": 13,
   "id": "internal-snowboard",
   "metadata": {},
   "outputs": [],
   "source": [
    "const primesTo2000000 = primesUpTo(2000000)"
   ]
  },
  {
   "cell_type": "code",
   "execution_count": 14,
   "id": "advised-fourth",
   "metadata": {},
   "outputs": [
    {
     "data": {
      "text/plain": [
       "148933"
      ]
     },
     "execution_count": 14,
     "metadata": {},
     "output_type": "execute_result"
    }
   ],
   "source": [
    "primesTo2000000.length"
   ]
  },
  {
   "cell_type": "markdown",
   "id": "tough-lancaster",
   "metadata": {},
   "source": [
    "It [turns out](https://primes.utm.edu/howmany.html) you can approximate the number of primes below a particular number. But that doesn't tell us if our answer is right."
   ]
  },
  {
   "cell_type": "markdown",
   "id": "daily-belfast",
   "metadata": {},
   "source": [
    "The last number is indeed the largest prime below 2000000."
   ]
  },
  {
   "cell_type": "code",
   "execution_count": 19,
   "id": "industrial-carol",
   "metadata": {},
   "outputs": [
    {
     "data": {
      "text/plain": [
       "1999993"
      ]
     },
     "execution_count": 19,
     "metadata": {},
     "output_type": "execute_result"
    }
   ],
   "source": [
    "primesTo2000000[primesTo2000000.length-1]"
   ]
  },
  {
   "cell_type": "code",
   "execution_count": 22,
   "id": "suburban-investigator",
   "metadata": {},
   "outputs": [
    {
     "ename": "RangeError",
     "evalue": "Invalid array length",
     "output_type": "error",
     "traceback": [
      "evalmachine.<anonymous>:3",
      "    let possiblePrimes = new Array(limit-1); // Represents numbers 2 to n",
      "                         ^",
      "",
      "RangeError: Invalid array length",
      "    at primesUpTo (evalmachine.<anonymous>:3:26)",
      "    at evalmachine.<anonymous>:2:1",
      "    at Script.runInThisContext (node:vm:131:12)",
      "    at Object.runInThisContext (node:vm:308:38)",
      "    at run ([eval]:1054:15)",
      "    at onRunRequest ([eval]:888:18)",
      "    at onMessage ([eval]:848:13)",
      "    at process.emit (node:events:378:20)",
      "    at emit (node:internal/child_process:920:12)",
      "    at processTicksAndRejections (node:internal/process/task_queues:82:21)"
     ]
    }
   ],
   "source": [
    "// This is a comment. Let's do some limit checking ...\n",
    "primesUpTo(0)"
   ]
  },
  {
   "cell_type": "markdown",
   "id": "smart-tablet",
   "metadata": {},
   "source": [
    "If this code were to become part of a long-lived project that other people might unknowlingly call in unintended ways, \n",
    "we should tighten up the rules on what is and isn't allowed. For example, what would primesUpTo(2.3) return? Or negative numbers. \n",
    "\n",
    "And what about large numbers? This function creates an array that is close enough to the same size as the limit, and that is stored in memory. If we make that number big enough it is going to consume a large amount of memory which can either degrade the behaviour of the programme or make it fail outright. The Wikipedia page suggests some alternative algorithms that mitigate this issue somewhat.\n",
    "\n",
    "So some sensible checks might include a minimum and maximum value for the limit, and checking that the limit is a whole number. \n",
    "\n",
    "What would happen if we called primesUpTo with a string argument like this ... ?"
   ]
  },
  {
   "cell_type": "code",
   "execution_count": 25,
   "id": "textile-elephant",
   "metadata": {},
   "outputs": [
    {
     "data": {
      "text/plain": [
       "[\n",
       "   2,  3,  5,  7,\n",
       "  11, 13, 17, 19\n",
       "]"
      ]
     },
     "execution_count": 25,
     "metadata": {},
     "output_type": "execute_result"
    }
   ],
   "source": [
    "primesUpTo(\"20\")"
   ]
  },
  {
   "cell_type": "markdown",
   "id": "narrow-bracelet",
   "metadata": {},
   "source": [
    "Miraculously it worked because JavaScript tried to make sense of what we were doing, but I wouldn't have expected that."
   ]
  },
  {
   "cell_type": "markdown",
   "id": "understood-moses",
   "metadata": {},
   "source": [
    "When designing algorithms we are trading off storage and time requirements. The [time complexity](https://www.geeksforgeeks.org/how-is-the-time-complexity-of-sieve-of-eratosthenes-is-nloglogn/) of the basic algorithm is the order of n*log(log(n)) and the space complexity is order of n, or O(n).\n",
    "\n",
    "On a final point, it's worth noticing the optimisation in the code which checks `if (possiblePrimes[i-2]) {` and avoids unnecessary work by ignoring multiples that we've already flagged. For example, all multiples of 2 are non-prime, which means that all multiples of 4 are non-prime. And so on. So if we find a number that has already been marked as non-prime we don't need to do any further processing for that number."
   ]
  },
  {
   "cell_type": "markdown",
   "id": "passive-console",
   "metadata": {},
   "source": [
    "**Postscript** I'm aware that some people may look at this code and say _really, you made a lot of rookie errors in this example, you must be a pretty bad coder_. To which I would reply:\n",
    "\n",
    "* I don't think it's very helpful to present the finished article as though you arrived at that point the first time. This suggests that most people get from start to finish on a linear path with minimal errors, and I don't believe that's the case. It may be for some people, but not most.\n",
    "\n",
    "* It's OK not to be right first time; figuring out where you're wrong by breaking the problem down into smaller parts is a helpful way to find where you may be making an invalid assumption, or were distracted by the sound of the washing machine.\n",
    "\n",
    "* This tendency in our industry to present our finished work and not revealing our mis-steps can lead to feelings of inadequacy in those who are learning, and I think we can do better than that.\n",
    "\n",
    "I hope this notebook has highlighted a few points, namely:\n",
    "\n",
    "* doing some up-front due diligence with reliable sources can save you time\n",
    "\n",
    "* writing tests is useful; writing correct tests is even better\n",
    "\n",
    "* it's a good idea to understand the [complexity](https://www.freecodecamp.org/news/the-complexity-of-simple-algorithms-and-data-structures-in-javascript-11e25b29de1e/) of updating and reading data structures in your particular language "
   ]
  },
  {
   "cell_type": "code",
   "execution_count": null,
   "id": "whole-samuel",
   "metadata": {},
   "outputs": [],
   "source": []
  }
 ],
 "metadata": {
  "kernelspec": {
   "display_name": "Javascript (Node.js)",
   "language": "javascript",
   "name": "javascript"
  },
  "language_info": {
   "file_extension": ".js",
   "mimetype": "application/javascript",
   "name": "javascript",
   "version": "15.11.0"
  },
  "pycharm": {
   "stem_cell": {
    "cell_type": "raw",
    "metadata": {
     "collapsed": false
    },
    "source": []
   }
  }
 },
 "nbformat": 4,
 "nbformat_minor": 5
}
