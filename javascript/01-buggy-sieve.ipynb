{
 "cells": [
  {
   "cell_type": "markdown",
   "id": "saving-apache",
   "metadata": {},
   "source": [
    "# Buggy Sieve of Eratosthenes"
   ]
  },
  {
   "cell_type": "markdown",
   "id": "personalized-composition",
   "metadata": {},
   "source": [
    "My first programming language was C. I learned it from the Kernighan and Ritchie book. \n",
    "The school I went to had a PDP11/23 running UNIX so C was the language to learn.\n",
    "\n",
    "Test-Driven Development hadn't been invented so we tended to pepper our code with lots of print statements (and then remove them when the code was working). It's an approach that works, but there are lots of good reasons to use TDD (like _code as documentation_, and fast automated regression testing).\n",
    "\n",
    "When you're applying for a job some companies will ask you detailed technical questions that check what you have memorised (but not whether you can actually write good code). Others may get you to write an efficient algorithm. Then there are those that ask you to design a solution to a problem somewhat related to what they do. And others may ask you to find the bug or bugs. This post is one of the last category. I didn't start out to release buggy code but:\n",
    "\n",
    "* my code doesn't work perfectly first time\n",
    "* releasing working code doesn't show the steps you took to get there\n",
    "\n",
    "So I thought it would be more interesting to show something that isn't working yet.\n",
    "\n",
    "In later posts I am going to bring elements of security into the code I write. \n",
    "\n",
    "This code will eventually implement the [Sieve of Eratosthenes](https://en.wikipedia.org/wiki/Sieve_of_Eratosthenes#Segmented_sieve) algorithm which finds [prime numbers](https://en.wikipedia.org/wiki/Prime_number) which are whole numbers that are divisible only by themselves and 1. Prime numbers are important, and behind that padlock you see in your browser address bar. "
   ]
  },
  {
   "cell_type": "markdown",
   "id": "willing-addition",
   "metadata": {},
   "source": [
    "## JavaScript\n",
    "\n",
    "I picked JavaScript for this example because it's the language we're using at Code Your Future, and is the [most widely used language](https://insights.stackoverflow.com/survey/2020#technology-programming-scripting-and-markup-languages). That's because it's distributed in every web browser, and has also graduated to the code that runs behind the scenes (which we call the _back end_). JavaScript is a dynamically typed language, which means the interpreter figures out the type of the _variable_ you're working with when you create it ... often based on what's on the right hand side of the equals."
   ]
  },
  {
   "cell_type": "markdown",
   "id": "thrown-playlist",
   "metadata": {},
   "source": [
    "## Additional information for non-coders\n",
    "\n",
    "The code below uses a few different JavaScript constructs. _var limit = 20_ is assigning a value of 20 to the \n",
    "_variable_ called limit. We use variables to store the working values that our code needs. By picking descriptive\n",
    "names we also make the intent of our code clear (I hope).\n",
    "\n",
    "There are a couple of math(s) functions in there. One takes the square root of the limit, which represents the maximum\n",
    "of possible prime numbers we're interested in. _sqrt_ returns a [real number](https://en.wikipedia.org/wiki/Real_number)\n",
    "and we want to discard the non-whole part (because we're dealing only with whole, or _interger_ numbers). \n",
    "                                           \n",
    "We use an _array_ to keep track of which numbers are prime and which aren't. The array allows us to map a numeric value\n",
    "-- in this case the possible prime number -- to a _boolean_ true or false flag indicating whether it is prime or not.\n",
    "                                           \n",
    "We start off with all numbers as possible primes. And then cycle through the array elements for 4,6,8,...,6,9,12,...,\n",
    "and so on. (2 and 3 were not included ... it is only the multiples that we excluded). When we've finished, any numbers that have not been marked as non-prime are our _primes_ ! \n",
    "                            \n",
    "That _for_ construct you can see is what cycles through the multiples."
   ]
  },
  {
   "cell_type": "markdown",
   "id": "gross-garbage",
   "metadata": {},
   "source": [
    "## Find the Bug\n",
    "\n",
    "If you look at the list of numbers output at the bottom it's clearly including non-prime numbers. I've made the limit small to make it easier to read. I started with 2000000 and there was too much output to see what was going wrong. Now that I've reduce it, it's clear that my loop isn't marking the non-prime values correctly. There's also another issue, which is that 0 and 1 are in the final list.\n",
    "\n",
    "The code is runnable so you can try and fix it. (Please make a copy first by selecting **File > Make a copy** in the menu).  Otherwise I'll work on it in the next post.\n",
    "\n",
    "To run the contents of the _cells_ below, position your cursor at the end of the cell (by clicking there) and press SHIFT-ENTER (hold down SHIFT and press ENTER)."
   ]
  },
  {
   "cell_type": "markdown",
   "id": "looking-likelihood",
   "metadata": {},
   "source": [
    "var limit = 20"
   ]
  },
  {
   "cell_type": "code",
   "execution_count": 2,
   "id": "curious-finder",
   "metadata": {},
   "outputs": [],
   "source": [
    "var maxPossibleFactor = Math.floor(Math.sqrt(limit))"
   ]
  },
  {
   "cell_type": "code",
   "execution_count": 3,
   "id": "tutorial-australian",
   "metadata": {},
   "outputs": [
    {
     "data": {
      "text/plain": [
       "4"
      ]
     },
     "execution_count": 3,
     "metadata": {},
     "output_type": "execute_result"
    }
   ],
   "source": [
    "maxPossibleFactor"
   ]
  },
  {
   "cell_type": "code",
   "execution_count": 4,
   "id": "assumed-active",
   "metadata": {},
   "outputs": [
    {
     "data": {
      "text/plain": [
       "[\n",
       "  true, true, true, true,\n",
       "  true, true, true, true,\n",
       "  true, true, true, true,\n",
       "  true, true, true, true,\n",
       "  true, true, true, true,\n",
       "  true\n",
       "]"
      ]
     },
     "execution_count": 4,
     "metadata": {},
     "output_type": "execute_result"
    }
   ],
   "source": [
    "var possiblePrimes = new Array(limit+1)\n",
    "possiblePrimes.fill(true);"
   ]
  },
  {
   "cell_type": "code",
   "execution_count": 5,
   "id": "acceptable-career",
   "metadata": {},
   "outputs": [
    {
     "name": "stdout",
     "output_type": "stream",
     "text": [
      "4\n",
      "6\n",
      "9\n"
     ]
    }
   ],
   "source": [
    "for(let i=2; i < maxPossibleFactor; i++) {\n",
    "    for(let multiplier=2; multiplier <= i; multiplier++) {\n",
    "        possiblePrimes[i*multiplier] = false;\n",
    "        console.log(i*multiplier);\n",
    "    }\n",
    "} "
   ]
  },
  {
   "cell_type": "code",
   "execution_count": 6,
   "id": "realistic-dispute",
   "metadata": {},
   "outputs": [
    {
     "data": {
      "text/plain": [
       "[\n",
       "   0,  1,  2,  3,  5,  7,  8,\n",
       "  10, 11, 12, 13, 14, 15, 16,\n",
       "  17, 18, 19, 20\n",
       "]"
      ]
     },
     "execution_count": 6,
     "metadata": {},
     "output_type": "execute_result"
    }
   ],
   "source": [
    "possiblePrimes.reduce((acc, isPrime, index) => {\n",
    "    if (isPrime) {\n",
    "        acc.push(index);\n",
    "    }\n",
    "    return acc;\n",
    "}, []);"
   ]
  }
 ],
 "metadata": {
  "kernelspec": {
   "display_name": "Javascript (Node.js)",
   "language": "javascript",
   "name": "javascript"
  },
  "language_info": {
   "file_extension": ".js",
   "mimetype": "application/javascript",
   "name": "javascript",
   "version": "15.11.0"
  }
 },
 "nbformat": 4,
 "nbformat_minor": 5
}
