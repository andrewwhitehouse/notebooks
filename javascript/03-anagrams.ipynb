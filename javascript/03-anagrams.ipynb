{
 "cells": [
  {
   "cell_type": "markdown",
   "id": "impossible-singing",
   "metadata": {},
   "source": [
    "# Anagrams with Test-Driven Development\n",
    "\n",
    "I'm working through a coding exercise from [Exercism](https://exercism.io/) in Clojure and this is the current challenge. \n",
    "\n",
    "I thought it would be interesting to work through it in JavaScript and add test cases ones by one so that we refactor the code as we go (instead of being presented with all of the tests at the same time which would encourage us to implement them all at once). This way we can see the code evolve in small steps.\n",
    "\n",
    "Test-Driven Development is about taking small steps, with tests to guide you as you go.\n",
    "\n",
    "Here is the challenge:\n",
    "\n",
    ">Introduction\n",
    ">\n",
    ">Given a word and a list of possible anagrams, select the correct sublist.\n",
    ">\n",
    ">Given \"listen\" and a list of candidates like \"enlists\" \"google\" \"inlets\" \"banana\" the program should return a list containing \"inlets\"."
   ]
  },
  {
   "cell_type": "markdown",
   "id": "olive-organizer",
   "metadata": {},
   "source": [
    "If we were doing this with a command line project and npm I would use something like _jest_. Since that's usually run from the command line, and this is a notebook, I'll query the result with a helper function."
   ]
  },
  {
   "cell_type": "markdown",
   "id": "european-statement",
   "metadata": {},
   "source": [
    "We start with a failing test ..."
   ]
  },
  {
   "cell_type": "code",
   "execution_count": 1,
   "id": "virgin-advantage",
   "metadata": {},
   "outputs": [],
   "source": [
    "function anagramFor(word, candidates) {\n",
    "    return [];\n",
    "}"
   ]
  },
  {
   "cell_type": "code",
   "execution_count": 2,
   "id": "neutral-happening",
   "metadata": {},
   "outputs": [],
   "source": [
    "function arrayEquals(a, b) {\n",
    "    if (a.length != b.length) {\n",
    "        return false;\n",
    "    }\n",
    "    for(let i=0; i < a.length; i++) {\n",
    "        if (a[i] != b[i]) {\n",
    "            return false;\n",
    "        }\n",
    "    }\n",
    "    return true;\n",
    "}"
   ]
  },
  {
   "cell_type": "code",
   "execution_count": 3,
   "id": "liked-division",
   "metadata": {},
   "outputs": [
    {
     "data": {
      "text/plain": [
       "false"
      ]
     },
     "execution_count": 3,
     "metadata": {},
     "output_type": "execute_result"
    }
   ],
   "source": [
    "// Test case from the introduction ...\n",
    "arrayEquals([\"inlets\"], anagramFor(\"listen\", [\"enlists\", \"google\", \"inlets\", \"banana\"]))"
   ]
  },
  {
   "cell_type": "code",
   "execution_count": 4,
   "id": "particular-actor",
   "metadata": {},
   "outputs": [],
   "source": [
    "// Simplest thing ...\n",
    "function anagramFor(word, candidates) {\n",
    "    return [\"inlets\"];\n",
    "}"
   ]
  },
  {
   "cell_type": "code",
   "execution_count": 5,
   "id": "psychological-movie",
   "metadata": {},
   "outputs": [
    {
     "data": {
      "text/plain": [
       "true"
      ]
     },
     "execution_count": 5,
     "metadata": {},
     "output_type": "execute_result"
    }
   ],
   "source": [
    "arrayEquals([\"inlets\"], anagramFor(\"listen\", [\"enlists\", \"google\", \"inlets\", \"banana\"]))"
   ]
  },
  {
   "cell_type": "code",
   "execution_count": 6,
   "id": "parallel-parade",
   "metadata": {},
   "outputs": [],
   "source": [
    "function testsPass(scenarios) {\n",
    "    let failed = false;\n",
    "    for([origin, candidates, anagrams] of scenarios) {\n",
    "        const actual = anagramFor(origin, candidates);\n",
    "        if (!arrayEquals(anagrams, actual)) {\n",
    "            console.log(`Failed: origin=${origin}, candidates=${candidates}; actual=${actual}`);\n",
    "            failed = true;\n",
    "        } else {\n",
    "            console.log(`Passed: origin=${origin}, candidates=${candidates}`);\n",
    "        }\n",
    "    }\n",
    "    return !failed;\n",
    "}\n"
   ]
  },
  {
   "cell_type": "code",
   "execution_count": 7,
   "id": "lesser-playback",
   "metadata": {},
   "outputs": [
    {
     "name": "stdout",
     "output_type": "stream",
     "text": [
      "Failed: origin=listen, candidates=enlists,google,inlets,banana,tinsel; actual=inlets\n",
      "Passed: origin=listen, candidates=enlists,google,inlets,banana\n"
     ]
    },
    {
     "data": {
      "text/plain": [
       "false"
      ]
     },
     "execution_count": 7,
     "metadata": {},
     "output_type": "execute_result"
    }
   ],
   "source": [
    "// Use `var` for scenarios because Node won't allow us to redeclare if we use let (or const)\n",
    "var scenarios = [\n",
    "    // origin, candidates, anagrams\n",
    "    [\"listen\", [\"enlists\", \"google\", \"inlets\", \"banana\", \"tinsel\"], [\"inlets\", \"tinsel\"]],\n",
    "    [\"listen\", [\"enlists\", \"google\", \"inlets\", \"banana\"], [\"inlets\"]],\n",
    "];\n",
    "testsPass(scenarios)"
   ]
  },
  {
   "cell_type": "code",
   "execution_count": 8,
   "id": "broadband-offering",
   "metadata": {},
   "outputs": [],
   "source": [
    "// Fix the test \n",
    "function anagramFor(word, candidates) {\n",
    "    const sortLettersAlphabetically = (w) => w.split('').sort().join('');\n",
    "    const sortedWord = sortLettersAlphabetically(word);\n",
    "    return candidates.filter((w) => sortedWord === sortLettersAlphabetically(w));\n",
    "}"
   ]
  },
  {
   "cell_type": "code",
   "execution_count": 9,
   "id": "necessary-trouble",
   "metadata": {},
   "outputs": [
    {
     "data": {
      "text/plain": [
       "[ 'inlets', 'tinsel' ]"
      ]
     },
     "execution_count": 9,
     "metadata": {},
     "output_type": "execute_result"
    }
   ],
   "source": [
    "anagramFor(\"listen\", [\"enlists\", \"google\", \"inlets\", \"banana\", \"tinsel\"])"
   ]
  },
  {
   "cell_type": "code",
   "execution_count": 10,
   "id": "universal-marathon",
   "metadata": {},
   "outputs": [
    {
     "name": "stdout",
     "output_type": "stream",
     "text": [
      "Passed: origin=listen, candidates=enlists,google,inlets,banana,tinsel\n",
      "Passed: origin=listen, candidates=enlists,google,inlets,banana\n"
     ]
    },
    {
     "data": {
      "text/plain": [
       "true"
      ]
     },
     "execution_count": 10,
     "metadata": {},
     "output_type": "execute_result"
    }
   ],
   "source": [
    "var scenarios = [\n",
    "    // origin, candidates, anagrams\n",
    "    [\"listen\", [\"enlists\", \"google\", \"inlets\", \"banana\", \"tinsel\"], [\"inlets\", \"tinsel\"]],\n",
    "    [\"listen\", [\"enlists\", \"google\", \"inlets\", \"banana\"], [\"inlets\"]],\n",
    "];\n",
    "testsPass(scenarios)"
   ]
  },
  {
   "cell_type": "markdown",
   "id": "cross-found",
   "metadata": {},
   "source": [
    "Check additional scenarios ..."
   ]
  },
  {
   "cell_type": "code",
   "execution_count": 11,
   "id": "tutorial-debut",
   "metadata": {},
   "outputs": [
    {
     "name": "stdout",
     "output_type": "stream",
     "text": [
      "Passed: origin=diaper, candidates=hello,world,zombies,pants\n",
      "Passed: origin=ant, candidates=tan,stand,at\n"
     ]
    },
    {
     "data": {
      "text/plain": [
       "true"
      ]
     },
     "execution_count": 11,
     "metadata": {},
     "output_type": "execute_result"
    }
   ],
   "source": [
    "var scenarios = [\n",
    "    // origin, candidates, anagrams\n",
    "    [\"diaper\", [\"hello\", \"world\", \"zombies\", \"pants\"],              []],\n",
    "    [\"ant\",    [\"tan\", \"stand\", \"at\"],                              [\"tan\"]]\n",
    "];\n",
    "testsPass(scenarios)"
   ]
  },
  {
   "cell_type": "code",
   "execution_count": 12,
   "id": "governmental-extraction",
   "metadata": {},
   "outputs": [
    {
     "name": "stdout",
     "output_type": "stream",
     "text": [
      "Passed: origin=good, candidates=dog,goody\n"
     ]
    },
    {
     "data": {
      "text/plain": [
       "true"
      ]
     },
     "execution_count": 12,
     "metadata": {},
     "output_type": "execute_result"
    }
   ],
   "source": [
    "var scenarios = [\n",
    "    [\"good\", [\"dog\", \"goody\"], []]\n",
    "];\n",
    "testsPass(scenarios)"
   ]
  },
  {
   "cell_type": "code",
   "execution_count": 13,
   "id": "amended-stuff",
   "metadata": {},
   "outputs": [
    {
     "name": "stdout",
     "output_type": "stream",
     "text": [
      "Failed: origin=Orchestra, candidates=cashregister,Carthorse,radishes; actual=\n"
     ]
    },
    {
     "data": {
      "text/plain": [
       "false"
      ]
     },
     "execution_count": 13,
     "metadata": {},
     "output_type": "execute_result"
    }
   ],
   "source": [
    "var scenarios = [\n",
    "    [\"Orchestra\", [\"cashregister\", \"Carthorse\", \"radishes\"],        [\"Carthorse\"]]\n",
    "];\n",
    "testsPass(scenarios)"
   ]
  },
  {
   "cell_type": "markdown",
   "id": "canadian-monkey",
   "metadata": {},
   "source": [
    "Looks like we need to do a case-insensitive match and than convert to initial caps if the original was in initial caps"
   ]
  },
  {
   "cell_type": "code",
   "execution_count": 14,
   "id": "sapphire-anderson",
   "metadata": {},
   "outputs": [],
   "source": [
    "function anagramFor(word, candidates) {\n",
    "    const sortLettersAlphabetically = (w) => w.toLowerCase().split('').sort().join('');\n",
    "    const capitalize = (w) => w.charAt(0).toUpperCase() + w.substring(1);\n",
    "    const sortedWord = sortLettersAlphabetically(word);\n",
    "    const results = candidates.filter((w) => sortedWord === sortLettersAlphabetically(w));\n",
    "    return (word.charAt(0).toUpperCase() == word.charAt(0)) \n",
    "        ? results.map((w) => capitalize(w)) \n",
    "        : results;\n",
    "}"
   ]
  },
  {
   "cell_type": "code",
   "execution_count": 15,
   "id": "terminal-stock",
   "metadata": {},
   "outputs": [
    {
     "name": "stdout",
     "output_type": "stream",
     "text": [
      "Passed: origin=Orchestra, candidates=cashregister,Carthorse,radishes\n"
     ]
    },
    {
     "data": {
      "text/plain": [
       "true"
      ]
     },
     "execution_count": 15,
     "metadata": {},
     "output_type": "execute_result"
    }
   ],
   "source": [
    "var scenarios = [\n",
    "    [\"Orchestra\", [\"cashregister\", \"Carthorse\", \"radishes\"],        [\"Carthorse\"]]\n",
    "];\n",
    "testsPass(scenarios)"
   ]
  },
  {
   "cell_type": "code",
   "execution_count": 16,
   "id": "offensive-rebound",
   "metadata": {},
   "outputs": [],
   "source": [
    "// Initially I put the toLowerCase at the end; why doesn't this work?\n",
    "var brokenSorter = (w) => w.split('').sort().join('').toLowerCase();"
   ]
  },
  {
   "cell_type": "code",
   "execution_count": 17,
   "id": "brave-allowance",
   "metadata": {},
   "outputs": [],
   "source": [
    "// brokenSorter('Hello')"
   ]
  },
  {
   "cell_type": "code",
   "execution_count": 18,
   "id": "searching-louis",
   "metadata": {},
   "outputs": [],
   "source": [
    "// Double-check the capitalize function\n",
    "var capitalize = (w) => w.charAt(0).toUpperCase() + w.substring(1);"
   ]
  },
  {
   "cell_type": "markdown",
   "id": "cultural-ecology",
   "metadata": {},
   "source": [
    "Run a [regression test](https://en.wikipedia.org/wiki/Regression_testing) ..."
   ]
  },
  {
   "cell_type": "code",
   "execution_count": 19,
   "id": "external-intake",
   "metadata": {},
   "outputs": [
    {
     "name": "stdout",
     "output_type": "stream",
     "text": [
      "Passed: origin=listen, candidates=enlists,google,inlets,banana,tinsel\n",
      "Passed: origin=listen, candidates=enlists,google,inlets,banana\n",
      "Passed: origin=Orchestra, candidates=cashregister,Carthorse,radishes\n",
      "Passed: origin=good, candidates=dog,goody\n",
      "Passed: origin=diaper, candidates=hello,world,zombies,pants\n",
      "Passed: origin=ant, candidates=tan,stand,at\n"
     ]
    },
    {
     "data": {
      "text/plain": [
       "true"
      ]
     },
     "execution_count": 19,
     "metadata": {},
     "output_type": "execute_result"
    }
   ],
   "source": [
    "var scenarios = [\n",
    "    // origin, candidates, anagrams\n",
    "    [\"listen\", [\"enlists\", \"google\", \"inlets\", \"banana\", \"tinsel\"], [\"inlets\", \"tinsel\"]],\n",
    "    [\"listen\", [\"enlists\", \"google\", \"inlets\", \"banana\"], [\"inlets\"]],\n",
    "    [\"Orchestra\", [\"cashregister\", \"Carthorse\", \"radishes\"], [\"Carthorse\"]],\n",
    "    [\"good\", [\"dog\", \"goody\"], []],\n",
    "    [\"diaper\", [\"hello\", \"world\", \"zombies\", \"pants\"], []],\n",
    "    [\"ant\",    [\"tan\", \"stand\", \"at\"], [\"tan\"]],\n",
    "    \n",
    "];\n",
    "testsPass(scenarios)"
   ]
  },
  {
   "cell_type": "code",
   "execution_count": 20,
   "id": "confused-harris",
   "metadata": {},
   "outputs": [
    {
     "name": "stdout",
     "output_type": "stream",
     "text": [
      "Failed: origin=banana, candidates=banana; actual=banana\n"
     ]
    },
    {
     "data": {
      "text/plain": [
       "false"
      ]
     },
     "execution_count": 20,
     "metadata": {},
     "output_type": "execute_result"
    }
   ],
   "source": [
    "// A word cannot be its own anagram\n",
    "var scenarios = [\n",
    "    [\"banana\", [\"banana\"], []],\n",
    "];\n",
    "testsPass(scenarios)"
   ]
  },
  {
   "cell_type": "code",
   "execution_count": 21,
   "id": "experienced-cutting",
   "metadata": {},
   "outputs": [],
   "source": [
    "function anagramFor(word, candidates) {\n",
    "    const sortLettersAlphabetically = (w) => w.toLowerCase().split('').sort().join('');\n",
    "    const capitalize = (w) => w.charAt(0).toUpperCase() + w.substring(1);\n",
    "    const sortedWord = sortLettersAlphabetically(word);\n",
    "    let results = candidates.filter((w) => sortedWord === sortLettersAlphabetically(w));\n",
    "    results = results.filter((w) => w != word);\n",
    "    return (word.charAt(0).toUpperCase() == word.charAt(0)) \n",
    "        ? results.map((w) => capitalize(w)) \n",
    "        : results;\n",
    "}"
   ]
  },
  {
   "cell_type": "code",
   "execution_count": 22,
   "id": "bronze-surprise",
   "metadata": {},
   "outputs": [
    {
     "name": "stdout",
     "output_type": "stream",
     "text": [
      "Passed: origin=banana, candidates=banana\n"
     ]
    },
    {
     "data": {
      "text/plain": [
       "true"
      ]
     },
     "execution_count": 22,
     "metadata": {},
     "output_type": "execute_result"
    }
   ],
   "source": [
    "var scenarios = [\n",
    "    [\"banana\", [\"banana\"], []],\n",
    "];\n",
    "testsPass(scenarios)"
   ]
  },
  {
   "cell_type": "code",
   "execution_count": 23,
   "id": "suburban-citizenship",
   "metadata": {},
   "outputs": [
    {
     "name": "stdout",
     "output_type": "stream",
     "text": [
      "Failed: origin=BANANA, candidates=banana; actual=Banana\n"
     ]
    },
    {
     "data": {
      "text/plain": [
       "false"
      ]
     },
     "execution_count": 23,
     "metadata": {},
     "output_type": "execute_result"
    }
   ],
   "source": [
    "// Mixed case?\n",
    "var scenarios = [\n",
    "    [\"BANANA\", [\"banana\"], []],\n",
    "];\n",
    "testsPass(scenarios)"
   ]
  },
  {
   "cell_type": "code",
   "execution_count": 24,
   "id": "dramatic-effectiveness",
   "metadata": {},
   "outputs": [],
   "source": [
    "/* Can you fix this one?\n",
    "function anagramFor(word, candidates) {\n",
    "    const sortLettersAlphabetically = (w) => w.toLowerCase().split('').sort().join('');\n",
    "    const capitalize = (w) => w.charAt(0).toUpperCase() + w.substring(1);\n",
    "    const sortedWord = sortLettersAlphabetically(word);\n",
    "    let results = candidates.filter((w) => sortedWord === sortLettersAlphabetically(w));\n",
    "    results = results.filter((w) => w != word);\n",
    "    return (word.charAt(0).toUpperCase() == word.charAt(0)) \n",
    "        ? results.map((w) => capitalize(w)) \n",
    "        : results;\n",
    "}\n",
    "*/"
   ]
  },
  {
   "cell_type": "code",
   "execution_count": 26,
   "id": "expensive-utility",
   "metadata": {},
   "outputs": [
    {
     "name": "stdout",
     "output_type": "stream",
     "text": [
      "Passed: origin=listen, candidates=enlists,google,inlets,banana,tinsel\n",
      "Passed: origin=listen, candidates=enlists,google,inlets,banana\n",
      "Passed: origin=Orchestra, candidates=cashregister,Carthorse,radishes\n",
      "Passed: origin=good, candidates=dog,goody\n",
      "Passed: origin=diaper, candidates=hello,world,zombies,pants\n",
      "Passed: origin=ant, candidates=tan,stand,at\n",
      "Passed: origin=banana, candidates=banana\n",
      "Failed: origin=BANANA, candidates=banana; actual=Banana\n"
     ]
    },
    {
     "data": {
      "text/plain": [
       "false"
      ]
     },
     "execution_count": 26,
     "metadata": {},
     "output_type": "execute_result"
    }
   ],
   "source": [
    "var scenarios = [\n",
    "    // origin, candidates, anagrams\n",
    "    [\"listen\", [\"enlists\", \"google\", \"inlets\", \"banana\", \"tinsel\"], [\"inlets\", \"tinsel\"]],\n",
    "    [\"listen\", [\"enlists\", \"google\", \"inlets\", \"banana\"], [\"inlets\"]],\n",
    "    [\"Orchestra\", [\"cashregister\", \"Carthorse\", \"radishes\"], [\"Carthorse\"]],\n",
    "    [\"good\", [\"dog\", \"goody\"], []],\n",
    "    [\"diaper\", [\"hello\", \"world\", \"zombies\", \"pants\"], []],\n",
    "    [\"ant\",    [\"tan\", \"stand\", \"at\"], [\"tan\"]],\n",
    "    [\"banana\", [\"banana\"], []],\n",
    "    [\"BANANA\", [\"banana\"], []],\n",
    "];\n",
    "testsPass(scenarios)"
   ]
  },
  {
   "cell_type": "markdown",
   "id": "patient-enclosure",
   "metadata": {},
   "source": [
    "We have quite a few test scenarios now. Are any of them redundant? Particularly if these were integration tests that are time-consuming to run, can we remove any unnecessary tests?"
   ]
  },
  {
   "cell_type": "markdown",
   "id": "social-stand",
   "metadata": {},
   "source": [
    "Can you think of any more scenarios to test? How should we handle an origin of _\"isn't\"_ and candidates of _[\"tins\", \"nits\", \"sin\"]_How would you handle invalid inputs such as numbers, or _undefined_ ? You can add more cells below and experiment."
   ]
  },
  {
   "cell_type": "code",
   "execution_count": null,
   "id": "steady-norman",
   "metadata": {},
   "outputs": [],
   "source": []
  }
 ],
 "metadata": {
  "kernelspec": {
   "display_name": "Javascript (Node.js)",
   "language": "javascript",
   "name": "javascript"
  },
  "language_info": {
   "file_extension": ".js",
   "mimetype": "application/javascript",
   "name": "javascript",
   "version": "15.11.0"
  }
 },
 "nbformat": 4,
 "nbformat_minor": 5
}
