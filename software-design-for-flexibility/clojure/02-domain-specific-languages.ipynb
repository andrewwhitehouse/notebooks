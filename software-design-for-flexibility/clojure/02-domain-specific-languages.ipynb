{
 "cells": [
  {
   "cell_type": "markdown",
   "id": "permanent-movement",
   "metadata": {},
   "source": [
    "## Combinators"
   ]
  },
  {
   "cell_type": "markdown",
   "id": "suburban-virtue",
   "metadata": {},
   "source": [
    "Biological systems achieve much of their adaptability through the use of very general parts (cells) that are dynamically configured and consequently able to adjust as their environment changes. \n",
    "\n",
    "Computational systems usually do not use this strategy, instead relying on a hierarchy of custom parts and combinations. \n",
    "\n",
    "In recent years, large libraries of well-specified higher-level parts have raised the abstraction level of this activity. But the means of combination are rarely abstracted or shared, other than as \"patterns\"."
   ]
  },
  {
   "cell_type": "markdown",
   "id": "attractive-cover",
   "metadata": {},
   "source": [
    "In some situations we can improve on theis practice by simple strategies that promote the use of shared combination mechanisms. If the systems we build are made up from members of a family of \"mix-and-match\" components that combine to make new members of the family, perturbations of the requirements can sometimes be addressed by rearrangement of components."
   ]
  },
  {
   "cell_type": "markdown",
   "id": "foreign-wheat",
   "metadata": {},
   "source": [
    "A _system of combinators_ is a set of primitive parts and a set of means of combining parts such that the interface specifications of the combinations are the same as those of the primitives. This enables construction without accidental interactions between the parts."
   ]
  },
  {
   "cell_type": "markdown",
   "id": "elect-greeting",
   "metadata": {},
   "source": [
    "Combinator systems provide a design strategy for domain-specific languages. The elements of the system are words in the language, and the combinators are used to combine them into phrases. Combinator systems have the significant advantage that they are easy to build and to reason about, but they have limitations, we which will discuss in _the next section_. When they fit the domain they are an excellent strategic choice."
   ]
  },
  {
   "cell_type": "markdown",
   "id": "laden-saskatchewan",
   "metadata": {},
   "source": [
    "But how do we arrange to buid our systems by combining elements of a family of mix-and-match components? We must identify a set of promitive components and a set of _combinators_ that combine components so as to make compound components with the same interface as the primitive components."
   ]
  },
  {
   "cell_type": "markdown",
   "id": "younger-robinson",
   "metadata": {},
   "source": [
    "### Functional Combinators"
   ]
  },
  {
   "cell_type": "markdown",
   "id": "vocal-blues",
   "metadata": {},
   "source": [
    "The use of functional notation in mathematics is a combinator discipline. A function has a domain, from which its arguments are selected, and a range (or co-domain) of its possible values. There are combinators that produce new functions as combinations of others. For example the composition f &compfn; g of functions f and g is a new function that takes arguments in the domain of g and produces values in the codomain of f.\n",
    "\n",
    "If two functions have the same domain and codomain, and if arithmetic is defined on their common codomain, then we can define the sum (or product) of the functions as the function that, when given an argument in their common domain, is the sum (or product) of the values of the two functions at that argument. Languages that allow first-class procedures provide a mechanism to support this means of combination, but what really matters is a good family of pieces."
   ]
  },
  {
   "cell_type": "markdown",
   "id": "funky-strategy",
   "metadata": {},
   "source": [
    "Organizing a system around combinators has several advantages. The parts taht are made can be arbitrarily mixed and matched. Any combination yields a legal programme, whose behaviour transparently depends only on the behaviours of the parts and the way that they are combined. The context in whch a part appears does not change the behaviour of the part: it is always acceptable to pick up a component part to use it in a new context, without worry about its behaviour in that context. Thus such programmes are easy to write, easy to read, and easy to verify. _A programme built on combinators is extensible, because introduction of new parts or new combinators does not affect the behaviour of existing programmes._"
   ]
  },
  {
   "cell_type": "markdown",
   "id": "federal-today",
   "metadata": {},
   "source": [
    "We can think of function combinators as implementing wiring diagrams that specify how a function is built by combining its parts. For example, functional composition represents a box made of two sub-boxes so taht they output of the first feeds the input of the second. \n",
    "\n",
    "A programme that implements this idea is straightforward:"
   ]
  },
  {
   "cell_type": "code",
   "execution_count": 1,
   "id": "correct-league",
   "metadata": {},
   "outputs": [
    {
     "data": {
      "text/plain": [
       "#'user/compose"
      ]
     },
     "execution_count": 1,
     "metadata": {},
     "output_type": "execute_result"
    }
   ],
   "source": [
    "(defn compose [f g]\n",
    "    (fn [& args]\n",
    "        (f (apply g args))))"
   ]
  },
  {
   "cell_type": "code",
   "execution_count": 2,
   "id": "standard-enough",
   "metadata": {},
   "outputs": [
    {
     "data": {
      "text/plain": [
       "9"
      ]
     },
     "execution_count": 2,
     "metadata": {},
     "output_type": "execute_result"
    }
   ],
   "source": [
    "((compose #(* % %) inc) 2)"
   ]
  },
  {
   "cell_type": "markdown",
   "id": "unusual-haiti",
   "metadata": {},
   "source": [
    "(It gets more exciting if we want to check that the arities match: that the function represented by procedure f takes only one argument, to match the output of g. It gets even more fun if g can return multiple values and f must take those arguments. We may also want to check that the arguments passed to the composition are the right number for g. But these are fine points that awe will deal with later.)"
   ]
  },
  {
   "cell_type": "markdown",
   "id": "interpreted-circular",
   "metadata": {},
   "source": [
    "We can demonstrate composition wiht a simple example:"
   ]
  },
  {
   "cell_type": "code",
   "execution_count": 3,
   "id": "loving-melbourne",
   "metadata": {},
   "outputs": [
    {
     "data": {
      "text/plain": [
       "(foo (bar z))"
      ]
     },
     "execution_count": 3,
     "metadata": {},
     "output_type": "execute_result"
    }
   ],
   "source": [
    "((compose (fn [x] (list 'foo x))\n",
    "          (fn [x] (list 'bar x)))\n",
    "     'z)"
   ]
  },
  {
   "cell_type": "markdown",
   "id": "urban-scanning",
   "metadata": {},
   "source": [
    "It is sometimes nicer to name the function that is being returned by a combinator. For example, we could write compose as:"
   ]
  },
  {
   "cell_type": "code",
   "execution_count": 4,
   "id": "tropical-domain",
   "metadata": {},
   "outputs": [
    {
     "data": {
      "text/plain": [
       "#'user/compose"
      ]
     },
     "execution_count": 4,
     "metadata": {},
     "output_type": "execute_result"
    }
   ],
   "source": [
    "(defn compose [f g]\n",
    "    (let [the-composition (fn [& args] (f (apply g args)))]\n",
    "        the-composition))"
   ]
  },
  {
   "cell_type": "markdown",
   "id": "prerequisite-national",
   "metadata": {},
   "source": [
    "The name the-composition is not defined outside of the scope of the definition of compose, so there is no obvious advantage to this way of writing the compose procedure. We often use anonymous procedures defined by lambda expressions in our programmes, as in the first version of compose above. So the choice of how to write the programme is mostly a matter of style."
   ]
  },
  {
   "cell_type": "markdown",
   "id": "rational-entrepreneur",
   "metadata": {},
   "source": [
    "Even with just this compose combinator we can write some rather elegant code. Consider the problem of computing the _n_th iterate of a function f<sup>n</sup>(x) = f(f<sup>n-1</sup>(x)). We can write this elegantly as a programme:"
   ]
  },
  {
   "cell_type": "code",
   "execution_count": 5,
   "id": "thorough-luxembourg",
   "metadata": {},
   "outputs": [
    {
     "data": {
      "text/plain": [
       "#'user/my-iterate"
      ]
     },
     "execution_count": 5,
     "metadata": {},
     "output_type": "execute_result"
    }
   ],
   "source": [
    "(defn my-iterate [n]\n",
    "    (fn [f]\n",
    "        (if (zero? n)\n",
    "            identity\n",
    "            (compose f ((my-iterate (dec n)) f)))))"
   ]
  },
  {
   "cell_type": "code",
   "execution_count": 6,
   "id": "unique-thompson",
   "metadata": {},
   "outputs": [
    {
     "data": {
      "text/plain": [
       "#'user/my-identity"
      ]
     },
     "execution_count": 6,
     "metadata": {},
     "output_type": "execute_result"
    }
   ],
   "source": [
    "(defn my-identity [x] x)"
   ]
  },
  {
   "cell_type": "code",
   "execution_count": 7,
   "id": "accompanied-section",
   "metadata": {},
   "outputs": [
    {
     "data": {
      "text/plain": [
       "#'user/square"
      ]
     },
     "execution_count": 7,
     "metadata": {},
     "output_type": "execute_result"
    }
   ],
   "source": [
    "(defn square [x] (* x x ))"
   ]
  },
  {
   "cell_type": "markdown",
   "id": "prescribed-socket",
   "metadata": {},
   "source": [
    "The result of `((my-iterate n) f)` is a new function, of the same type as `f`. It can be used wherever f can be used. So (iterate n) is itself a function combinator. Now we can use this to determine the result of repeatedly squaring a number:"
   ]
  },
  {
   "cell_type": "code",
   "execution_count": 8,
   "id": "contemporary-custom",
   "metadata": {},
   "outputs": [
    {
     "data": {
      "text/plain": [
       "390625"
      ]
     },
     "execution_count": 8,
     "metadata": {},
     "output_type": "execute_result"
    }
   ],
   "source": [
    "(((my-iterate 3) square) 5)"
   ]
  },
  {
   "cell_type": "markdown",
   "id": "foster-hampton",
   "metadata": {},
   "source": [
    "Notice the analogy: function composition is like multiplication, so function iteration is like exponentiation."
   ]
  },
  {
   "cell_type": "markdown",
   "id": "everyday-rolling",
   "metadata": {},
   "source": [
    "There are many simple combinators that are generally useful in programming. We will present just a few here to give a feeling for the range of possibilities."
   ]
  },
  {
   "cell_type": "markdown",
   "id": "essential-convert",
   "metadata": {},
   "source": [
    "We can arrange to use two functions in paralle, then combine their results with a specied combined function. This parallel combination is implemented with the procedure "
   ]
  },
  {
   "cell_type": "code",
   "execution_count": 9,
   "id": "indoor-klein",
   "metadata": {},
   "outputs": [
    {
     "data": {
      "text/plain": [
       "#'user/parallel-combine"
      ]
     },
     "execution_count": 9,
     "metadata": {},
     "output_type": "execute_result"
    }
   ],
   "source": [
    "(defn parallel-combine [h f g]\n",
    "    (defn the-combination [& args]\n",
    "        (h (apply f args) (apply g args)))\n",
    "    the-combination)"
   ]
  },
  {
   "cell_type": "code",
   "execution_count": 10,
   "id": "native-details",
   "metadata": {},
   "outputs": [
    {
     "data": {
      "text/plain": [
       "((foo a b c) (bar a b c))"
      ]
     },
     "execution_count": 10,
     "metadata": {},
     "output_type": "execute_result"
    }
   ],
   "source": [
    "((parallel-combine list\n",
    "                   (fn [x y z] (list 'foo x y z))\n",
    "                   (fn [u v w] (list 'bar u v w)))\n",
    "                    'a 'b 'c)"
   ]
  },
  {
   "cell_type": "markdown",
   "id": "consecutive-flush",
   "metadata": {},
   "source": [
    "The parallel-combine can be useful in organizing a complex process. For example, suppose we have a source of images of pieces of vegetables. We may have one procedure that given the image can estimate the colour of the vegetable, and another that can give a description of the shape (leaf, root, stalk, ...). We may have a third procedure that can combine these descriptions to identify the vegetable. These can be neatly composed with parallel-combine."
   ]
  },
  {
   "cell_type": "markdown",
   "id": "chief-wales",
   "metadata": {},
   "source": [
    "### Arity"
   ]
  },
  {
   "cell_type": "markdown",
   "id": "radio-sullivan",
   "metadata": {},
   "source": [
    "The \"tensor combinator\" of two procedures is just a new procedure that takes a data structure combining arguments for the two procedures. It distributes those arguments to the two procedures, producing a daa structure that combines the values of the two procedures. The need to unbundle a data structure, operate on the parts separately, and rebundle the results is ubiquitous in programming. \n"
   ]
  },
  {
   "cell_type": "markdown",
   "id": "activated-garbage",
   "metadata": {},
   "source": [
    "`spread-combine` is a generalization of the tensor product in multilinear algerbra. In the mathematical tensor product, `f` and `g` are linear functions of their inputs, and `h` is a trace over some shared indices; but tensors are just the special case that inspired this combinator.\n",
    "\n",
    "The programme to implement `spread-combine` is a bit more complicated than `parallel-combine`, because it must distribute the correct argumnents to `f` and `g`. Here is a first draft of that code:"
   ]
  },
  {
   "cell_type": "code",
   "execution_count": 11,
   "id": "dressed-indie",
   "metadata": {},
   "outputs": [
    {
     "data": {
      "text/plain": [
       "#'user/spread-combine"
      ]
     },
     "execution_count": 11,
     "metadata": {},
     "output_type": "execute_result"
    }
   ],
   "source": [
    "(declare get-arity)\n",
    "(defn spread-combine [h f g]\n",
    "     (let [n (get-arity f)]\n",
    "         (defn the-combinatin [& args]\n",
    "             (h (apply f (take n args))\n",
    "                (apply g (drop n args))))\n",
    "         the-combination))"
   ]
  },
  {
   "cell_type": "markdown",
   "id": "fuzzy-treasure",
   "metadata": {},
   "source": [
    "This code requires a way of determining how many arguments a procedures takes (its _arity_), because it has to pick out the arguments for `f` and then pass the rest to `g`."
   ]
  },
  {
   "cell_type": "markdown",
   "id": "synthetic-cycling",
   "metadata": {},
   "source": [
    "This version of `spread-combine` is not very good. The most egregious problem is that `the-combination` takes any number of arguments, so it does not have a well-edfined numerical arity, and thus is cannot be passed to another combinator that needs its arity. For example, the result of a `spread-combine` cannot be passed as the second argument `f` to another `spread-combine`. So, somehow, we have to decorate `the-combination` with an appropriate arity."
   ]
  },
  {
   "cell_type": "markdown",
   "id": "exempt-diversity",
   "metadata": {},
   "source": [
    "Here is a second draft:"
   ]
  },
  {
   "cell_type": "code",
   "execution_count": 12,
   "id": "motivated-senior",
   "metadata": {},
   "outputs": [
    {
     "data": {
      "text/plain": [
       "#'user/spread-combine"
      ]
     },
     "execution_count": 12,
     "metadata": {},
     "output_type": "execute_result"
    }
   ],
   "source": [
    "(declare restrict-arity)\n",
    "(defn spread-combine [h f g]\n",
    "    (let [n (get-arity f) m (get-arity g)\n",
    "          t (+ n m)]\n",
    "        (defn the-combination [& args]\n",
    "            (h (apply f (take n args))\n",
    "               (apply g (drop n args))))\n",
    "        (restrict-arity the-combination t)))"
   ]
  },
  {
   "cell_type": "code",
   "execution_count": 13,
   "id": "nervous-covering",
   "metadata": {},
   "outputs": [
    {
     "data": {
      "text/plain": [
       "#'user/restrict-arity"
      ]
     },
     "execution_count": 13,
     "metadata": {},
     "output_type": "execute_result"
    }
   ],
   "source": [
    "(defn restrict-arity [f nargs]\n",
    "    (with-meta f {:arity nargs}))"
   ]
  },
  {
   "cell_type": "code",
   "execution_count": 14,
   "id": "massive-macintosh",
   "metadata": {},
   "outputs": [
    {
     "data": {
      "text/plain": [
       "#'user/get-arity"
      ]
     },
     "execution_count": 14,
     "metadata": {},
     "output_type": "execute_result"
    }
   ],
   "source": [
    "(defn get-arity [f]\n",
    "    (-> f meta :arity))"
   ]
  },
  {
   "cell_type": "code",
   "execution_count": 17,
   "id": "minor-cancer",
   "metadata": {},
   "outputs": [
    {
     "data": {
      "text/plain": [
       "((foo a b) (bar c d e))"
      ]
     },
     "execution_count": 17,
     "metadata": {},
     "output_type": "execute_result"
    }
   ],
   "source": [
    "((spread-combine list\n",
    "                 (restrict-arity (fn [x y] (list 'foo x y)) 2) \n",
    "                 (restrict-arity (fn [u v w] (list 'bar u v w)) 3))\n",
    "                                                'a 'b 'c 'd 'e)"
   ]
  },
  {
   "cell_type": "markdown",
   "id": "bronze-stranger",
   "metadata": {},
   "source": [
    "This arity restricting logic gives us a way to figure out which (/ how many) arguments we should pass to each function. \n",
    "\n",
    "There is a small \"improvement\" we could make."
   ]
  },
  {
   "cell_type": "code",
   "execution_count": 21,
   "id": "designing-collector",
   "metadata": {},
   "outputs": [
    {
     "data": {
      "text/plain": [
       "#'user/spread-combine"
      ]
     },
     "execution_count": 21,
     "metadata": {},
     "output_type": "execute_result"
    }
   ],
   "source": [
    "(defn spread-combine [h f g]\n",
    "    (let [n (get-arity f) m (get-arity g)\n",
    "          t (+ n m)]\n",
    "        (defn the-combination [& args]\n",
    "            (h (apply f (take n args))\n",
    "               (apply g (->> args (drop n) (take m)))))\n",
    "        (restrict-arity the-combination t)))"
   ]
  },
  {
   "cell_type": "code",
   "execution_count": 23,
   "id": "killing-firmware",
   "metadata": {},
   "outputs": [
    {
     "data": {
      "text/plain": [
       "((foo a b) (bar c d e))"
      ]
     },
     "execution_count": 23,
     "metadata": {},
     "output_type": "execute_result"
    }
   ],
   "source": [
    "((spread-combine list\n",
    "                 (restrict-arity (fn [x y] (list 'foo x y)) 2) \n",
    "                 (restrict-arity (fn [u v w] (list 'bar u v w)) 3))\n",
    "                                                'a 'b 'c 'd 'e)"
   ]
  },
  {
   "cell_type": "markdown",
   "id": "typical-blues",
   "metadata": {},
   "source": [
    "What happens if we provide an extra argument?"
   ]
  },
  {
   "cell_type": "code",
   "execution_count": 24,
   "id": "original-practitioner",
   "metadata": {},
   "outputs": [
    {
     "data": {
      "text/plain": [
       "((foo a b) (bar c d e))"
      ]
     },
     "execution_count": 24,
     "metadata": {},
     "output_type": "execute_result"
    }
   ],
   "source": [
    "((spread-combine list\n",
    "                 (restrict-arity (fn [x y] (list 'foo x y)) 2) \n",
    "                 (restrict-arity (fn [u v w] (list 'bar u v w)) 3))\n",
    "                                                'a 'b 'c 'd 'e 'f)"
   ]
  },
  {
   "cell_type": "markdown",
   "id": "painful-produce",
   "metadata": {},
   "source": [
    "With the older version ..."
   ]
  },
  {
   "cell_type": "code",
   "execution_count": 25,
   "id": "metric-matter",
   "metadata": {},
   "outputs": [
    {
     "name": "stderr",
     "output_type": "stream",
     "text": [
      "Execution error (ArityException) at user$spread_combine$the_combination__4187/doInvoke (REPL:6).\n",
      "Wrong number of args (4) passed to: user/eval4190/fn--4193\n"
     ]
    },
    {
     "ename": "class clojure.lang.ArityException",
     "evalue": "",
     "output_type": "error",
     "traceback": [
      "      AFn.java:   429 clojure.lang.AFn/throwArity",
      "      AFn.java:    44 clojure.lang.AFn/invoke",
      "      AFn.java:   165 clojure.lang.AFn/applyToHelper",
      "      AFn.java:   144 clojure.lang.AFn/applyTo",
      "AFunction.java:    31 clojure.lang.AFunction$1/doInvoke",
      "   RestFn.java:   137 clojure.lang.RestFn/applyTo",
      "      core.clj:   665 clojure.core$apply/invokeStatic",
      "      core.clj:   660 clojure.core$apply/invoke",
      "   RestFn.java:   137 clojure.lang.RestFn/applyTo",
      "AFunction.java:    31 clojure.lang.AFunction$1/doInvoke",
      "   RestFn.java:   512 clojure.lang.RestFn/invoke",
      "      core.clj:  3214 clojure.core$eval/invokeStatic",
      "      core.clj:  3210 clojure.core$eval/invoke",
      "      main.clj:   437 clojure.main$repl$read_eval_print__9086$fn__9089/invoke",
      "      main.clj:   458 clojure.main$repl$fn__9095/invoke",
      "      main.clj:   368 clojure.main$repl/doInvoke",
      "   RestFn.java:  1523 clojure.lang.RestFn/invoke",
      "      AFn.java:    22 clojure.lang.AFn/run",
      "      AFn.java:    22 clojure.lang.AFn/run",
      "   Thread.java:   748 java.lang.Thread/run"
     ]
    }
   ],
   "source": [
    "(defn spread-combine [h f g]\n",
    "    (let [n (get-arity f) m (get-arity g)\n",
    "          t (+ n m)]\n",
    "        (defn the-combination [& args]\n",
    "            (h (apply f (take n args))\n",
    "               (apply g (drop n args))))\n",
    "        (restrict-arity the-combination t)))\n",
    "((spread-combine list\n",
    "                 (restrict-arity (fn [x y] (list 'foo x y)) 2) \n",
    "                 (restrict-arity (fn [u v w] (list 'bar u v w)) 3))\n",
    "                                                'a 'b 'c 'd 'e 'f)"
   ]
  },
  {
   "cell_type": "markdown",
   "id": "demanding-hamilton",
   "metadata": {},
   "source": [
    "Actually this is probably good enough. Clojure gives us the arity checking we need, without the additional complexity described in SDF."
   ]
  },
  {
   "cell_type": "code",
   "execution_count": null,
   "id": "imperial-fishing",
   "metadata": {},
   "outputs": [],
   "source": []
  }
 ],
 "metadata": {
  "kernelspec": {
   "display_name": "Clojure (clojupyter-0.3.2)",
   "language": "clojure",
   "name": "clojupyter-0.3.2"
  },
  "language_info": {
   "file_extension": ".clj",
   "mimetype": "text/x-clojure",
   "name": "clojure",
   "version": "1.10.1"
  }
 },
 "nbformat": 4,
 "nbformat_minor": 5
}
